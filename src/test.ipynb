{
 "cells": [
  {
   "cell_type": "code",
   "execution_count": 1,
   "id": "1fab7d2c",
   "metadata": {},
   "outputs": [],
   "source": [
    "import math"
   ]
  },
  {
   "cell_type": "code",
   "execution_count": 16,
   "id": "da743836",
   "metadata": {},
   "outputs": [],
   "source": [
    "class FileSystem:\n",
    "    \"\"\"File system operations\"\"\"\n",
    "    def get_files(self,path: str) -> list:\n",
    "        \"\"\"Get all files in a directory\"\"\"\n",
    "        import os\n",
    "        return os.listdir(path)\n",
    "\n",
    "    def get_file_size(self,path: str) -> int:\n",
    "        \"\"\"Get the size of a file\"\"\"\n",
    "        import os\n",
    "        return os.path.getsize(path)\n",
    "    \n",
    "    def get_file_extension(self,path: str) -> str:\n",
    "        \"\"\"Get the extension of a file\"\"\"\n",
    "        import os\n",
    "        return os.path.splitext(path)[1]\n",
    "\n",
    "    def merge_files(self,file1: str, file2: str) -> str:\n",
    "        \"\"\"Merge two files\"\"\"\n",
    "        import os\n",
    "        with open(file1, 'r') as f1, open(file2, 'r') as f2:\n",
    "            return f1.read() + f2.read()\n",
    "        \n",
    "    # def copy_file(self,src: str, dest: str) -> str:\n",
    "    #     \"\"\"Copy a file\"\"\"\n",
    "    #     import shutil\n",
    "    #     shutil.copy(src, dest)\n",
    "    #     return f\"Copied {src} to {dest}\"\n"
   ]
  },
  {
   "cell_type": "code",
   "execution_count": 17,
   "id": "3a468fa9",
   "metadata": {},
   "outputs": [],
   "source": [
    "clc = FileSystem()"
   ]
  },
  {
   "cell_type": "code",
   "execution_count": 18,
   "id": "de96ece1",
   "metadata": {},
   "outputs": [],
   "source": [
    "# def copy_file(src: str, dest: str) -> str:\n",
    "#     \"\"\"\n",
    "#     description: \"Copy a file\"\n",
    "#     Parameters:\n",
    "#     src: str = \"source.txt\"\n",
    "#     dest: str = \"destination.txt\"\n",
    "\n",
    "#     \"\"\"\n",
    "#     import shutil\n",
    "#     shutil.copy(src, dest)\n",
    "#     return f\"Copied {src} to {dest}\""
   ]
  },
  {
   "cell_type": "code",
   "execution_count": 19,
   "id": "48bf2ecc",
   "metadata": {},
   "outputs": [],
   "source": [
    "import ast\n",
    "import inspect\n",
    "import json\n",
    "\n",
    "def convert_function_to_json(func):\n",
    "    source = inspect.getsource(func)\n",
    "    parsed = ast.parse(source)\n",
    "\n",
    "    func_def = parsed.body[0]\n",
    "    func_name = func_def.name\n",
    "\n",
    "    docstring = ast.get_docstring(func_def)\n",
    "    doc_lines = docstring.strip().split('\\n')\n",
    "    \n",
    "    # Extract description\n",
    "    description_line = next((line for line in doc_lines if \"description\" in line), \"\")\n",
    "    description = description_line.split(\":\", 1)[-1].strip().strip('\"')\n",
    "\n",
    "    # Extract parameter defaults from docstring\n",
    "    param_descriptions = {}\n",
    "    in_params = False\n",
    "    for line in doc_lines:\n",
    "        if \"Parameters:\" in line:\n",
    "            in_params = True\n",
    "            continue\n",
    "        if in_params:\n",
    "            if ':' in line and '=' in line:\n",
    "                param, rest = line.split(\":\", 1)\n",
    "                _, desc = rest.split(\"=\")\n",
    "                param_descriptions[param.strip()] = desc.strip().strip('\"')\n",
    "\n",
    "    input_schema = {\n",
    "        \"type\": \"object\",\n",
    "        \"properties\": {},\n",
    "        \"required\": []\n",
    "    }\n",
    "\n",
    "    for arg in func_def.args.args:\n",
    "        name = arg.arg\n",
    "        input_schema[\"properties\"][name] = {\n",
    "            \"type\": \"string\",\n",
    "            \"description\": param_descriptions.get(name, \"\")\n",
    "        }\n",
    "        input_schema[\"required\"].append(name)\n",
    "\n",
    "    result = {\n",
    "        \"name\": func_name,\n",
    "        \"description\": description,\n",
    "        \"inputSchema\": input_schema\n",
    "    }\n",
    "\n",
    "    return result"
   ]
  },
  {
   "cell_type": "code",
   "execution_count": 20,
   "id": "65bf4c4f",
   "metadata": {},
   "outputs": [
    {
     "ename": "IndentationError",
     "evalue": "unexpected indent (<unknown>, line 1)",
     "output_type": "error",
     "traceback": [
      "Traceback \u001b[1;36m(most recent call last)\u001b[0m:\n",
      "\u001b[0m  File \u001b[0;32mc:\\Users\\ramsi\\anaconda3\\envs\\ai_gpu\\lib\\site-packages\\IPython\\core\\interactiveshell.py:3526\u001b[0m in \u001b[0;35mrun_code\u001b[0m\n    exec(code_obj, self.user_global_ns, self.user_ns)\u001b[0m\n",
      "\u001b[0m  Cell \u001b[0;32mIn[20], line 1\u001b[0m\n    [convert_function_to_json(getattr(FileSystem, tool)) for tool in dir(clc) if not tool.startswith('__')]\u001b[0m\n",
      "\u001b[0m  Cell \u001b[0;32mIn[20], line 1\u001b[0m in \u001b[0;35m<listcomp>\u001b[0m\n    [convert_function_to_json(getattr(FileSystem, tool)) for tool in dir(clc) if not tool.startswith('__')]\u001b[0m\n",
      "\u001b[0m  Cell \u001b[0;32mIn[19], line 7\u001b[0m in \u001b[0;35mconvert_function_to_json\u001b[0m\n    parsed = ast.parse(source)\u001b[0m\n",
      "\u001b[1;36m  File \u001b[1;32mc:\\Users\\ramsi\\anaconda3\\envs\\ai_gpu\\lib\\ast.py:50\u001b[1;36m in \u001b[1;35mparse\u001b[1;36m\n\u001b[1;33m    return compile(source, filename, mode, flags,\u001b[1;36m\n",
      "\u001b[1;36m  File \u001b[1;32m<unknown>:1\u001b[1;36m\u001b[0m\n\u001b[1;33m    def get_file_extension(self,path: str) -> str:\u001b[0m\n\u001b[1;37m    ^\u001b[0m\n\u001b[1;31mIndentationError\u001b[0m\u001b[1;31m:\u001b[0m unexpected indent\n"
     ]
    }
   ],
   "source": [
    "[convert_function_to_json(getattr(FileSystem, tool)) for tool in dir(clc) if not tool.startswith('__')]\n"
   ]
  },
  {
   "cell_type": "code",
   "execution_count": 19,
   "id": "7f7d2cdd",
   "metadata": {},
   "outputs": [
    {
     "name": "stdout",
     "output_type": "stream",
     "text": [
      "{\n",
      "    \"name\": \"copy_file\",\n",
      "    \"description\": \"Copy a file\",\n",
      "    \"inputSchema\": {\n",
      "        \"type\": \"object\",\n",
      "        \"properties\": {\n",
      "            \"src\": {\n",
      "                \"type\": \"string\",\n",
      "                \"description\": \"source.txt\"\n",
      "            },\n",
      "            \"dest\": {\n",
      "                \"type\": \"string\",\n",
      "                \"description\": \"destination.txt\"\n",
      "            }\n",
      "        },\n",
      "        \"required\": [\n",
      "            \"src\",\n",
      "            \"dest\"\n",
      "        ]\n",
      "    }\n",
      "}\n"
     ]
    }
   ],
   "source": [
    "json_output = convert_function_to_json(copy_file)\n",
    "print(json.dumps(json_output, indent=4))\n"
   ]
  }
 ],
 "metadata": {
  "kernelspec": {
   "display_name": "ai_gpu",
   "language": "python",
   "name": "python3"
  },
  "language_info": {
   "codemirror_mode": {
    "name": "ipython",
    "version": 3
   },
   "file_extension": ".py",
   "mimetype": "text/x-python",
   "name": "python",
   "nbconvert_exporter": "python",
   "pygments_lexer": "ipython3",
   "version": "3.10.0"
  }
 },
 "nbformat": 4,
 "nbformat_minor": 5
}
